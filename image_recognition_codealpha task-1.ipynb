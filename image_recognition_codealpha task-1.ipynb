{
 "cells": [
  {
   "cell_type": "code",
   "execution_count": 19,
   "id": "b25f0dba-2ebf-41a1-8c99-4749bac6dabd",
   "metadata": {},
   "outputs": [],
   "source": [
    "import tensorflow as tf\n",
    "from tensorflow.keras import datasets, layers, models\n",
    "from tensorflow.keras.preprocessing import image\n",
    "import numpy as np\n",
    "import matplotlib.pyplot as plt"
   ]
  },
  {
   "cell_type": "code",
   "execution_count": 20,
   "id": "7ce7d988-37b1-495c-8cf7-43a829a9763e",
   "metadata": {},
   "outputs": [],
   "source": [
    "# Load and preprocess the data\n",
    "(train_images, train_labels), (test_images, test_labels) = datasets.cifar10.load_data()  # cifar10 is a dataset\n",
    "train_images, test_images = train_images / 255.0, test_images / 255.0   # normalising the images with same size\n"
   ]
  },
  {
   "cell_type": "code",
   "execution_count": 21,
   "id": "c43e31b8-05c9-4cc2-9f48-9d11ba2533bb",
   "metadata": {},
   "outputs": [],
   "source": [
    "# Define the class names\n",
    "class_names = ['airplane', 'automobile', 'bird', 'cat', 'deer', 'dog', 'frog', 'horse', 'ship', 'truck']\n"
   ]
  },
  {
   "cell_type": "code",
   "execution_count": 22,
   "id": "0fec292d-1941-4f60-8b21-ea616625536c",
   "metadata": {},
   "outputs": [],
   "source": [
    "# Build the CNN model \n",
    "model = models.Sequential([                       #This initializes a Sequential model, which is a linear stack of layers.\n",
    "    layers.Conv2D(32, (3, 3), activation='relu', input_shape=(32, 32, 3)),\n",
    "                                                 #Conv2D(32, (3, 3)): This adds a 2D convolutional layer with 32 filters, each of size 3x3.\n",
    "                                                 #activation='relu': Uses the ReLU (Rectified Linear Unit) activation function\n",
    "                                                 #input_shape=(32, 32, 3): Specifies the shape of the input data, which is 32x32 pixels with 3 color channels (RGB)\n",
    "    layers.MaxPooling2D((2, 2)),                 #This adds a max pooling layer with a pool size of 2x2. \n",
    "    layers.Conv2D(64, (3, 3), activation='relu'),#This adds another convolutional layer with 64 filters, each of size 3x3, followed by ReLU activation.\n",
    "    layers.MaxPooling2D((2, 2)),\n",
    "    layers.Conv2D(64, (3, 3), activation='relu'),\n",
    "    layers.Flatten(),                          #This flattens the 3D output from the previous layer into a 1D vector, preparing it for the fully connected (dense) layers\n",
    "    layers.Dense(64, activation='relu'),       #This adds a fully connected (dense) layer with 64 units and ReLU activation. Dense layers are used to perform classification based on the features extracted by the convolutional layers.\n",
    "    layers.Dense(10)                           #This adds the final dense layer with 10 units. Each unit corresponds to one of the 10 classes in the CIFAR-10 dataset\n",
    "])\n"
   ]
  },
  {
   "cell_type": "code",
   "execution_count": 23,
   "id": "866ad4f9-5a1d-4008-936e-9ffdfabc092f",
   "metadata": {},
   "outputs": [],
   "source": [
    "# Compile the model\n",
    "model.compile(optimizer='adam',          #Adam Optimizer: Adam stands for Adaptive Moment Estimation. It is an optimization algorithm that adjusts the learning rate based on the first and \n",
    "                                          #second moments of the gradients (mean and uncentered variance). Adam is popular because it often works well with little tuning.    \n",
    "                                          #Purpose: The optimizer is responsible for updating the model’s weights based on the gradients computed during backpropagation\n",
    "loss=tf.keras.losses.SparseCategoricalCrossentropy(from_logits=True),#Sparse Categorical Crossentropy is used to measure the model’s prediction error for multi-class classification tasks. The from_logits=True parameter indicates that the model outputs raw logits.\n",
    "metrics=['accuracy'])       #Metrics: Accuracy is used to monitor the fraction of correctly classified instances during training and evaluation"
   ]
  },
  {
   "cell_type": "code",
   "execution_count": 24,
   "id": "23d0e36a-8846-4d84-91c3-d889d05d4643",
   "metadata": {},
   "outputs": [
    {
     "name": "stdout",
     "output_type": "stream",
     "text": [
      "Epoch 1/10\n",
      "\u001b[1m1563/1563\u001b[0m \u001b[32m━━━━━━━━━━━━━━━━━━━━\u001b[0m\u001b[37m\u001b[0m \u001b[1m32s\u001b[0m 18ms/step - accuracy: 0.3557 - loss: 1.7552 - val_accuracy: 0.5484 - val_loss: 1.2605\n",
      "Epoch 2/10\n",
      "\u001b[1m1563/1563\u001b[0m \u001b[32m━━━━━━━━━━━━━━━━━━━━\u001b[0m\u001b[37m\u001b[0m \u001b[1m28s\u001b[0m 18ms/step - accuracy: 0.5680 - loss: 1.2161 - val_accuracy: 0.6076 - val_loss: 1.1113\n",
      "Epoch 3/10\n",
      "\u001b[1m1563/1563\u001b[0m \u001b[32m━━━━━━━━━━━━━━━━━━━━\u001b[0m\u001b[37m\u001b[0m \u001b[1m26s\u001b[0m 17ms/step - accuracy: 0.6268 - loss: 1.0561 - val_accuracy: 0.6318 - val_loss: 1.0488\n",
      "Epoch 4/10\n",
      "\u001b[1m1563/1563\u001b[0m \u001b[32m━━━━━━━━━━━━━━━━━━━━\u001b[0m\u001b[37m\u001b[0m \u001b[1m27s\u001b[0m 18ms/step - accuracy: 0.6710 - loss: 0.9409 - val_accuracy: 0.6575 - val_loss: 0.9713\n",
      "Epoch 5/10\n",
      "\u001b[1m1563/1563\u001b[0m \u001b[32m━━━━━━━━━━━━━━━━━━━━\u001b[0m\u001b[37m\u001b[0m \u001b[1m28s\u001b[0m 18ms/step - accuracy: 0.6935 - loss: 0.8730 - val_accuracy: 0.6773 - val_loss: 0.9252\n",
      "Epoch 6/10\n",
      "\u001b[1m1563/1563\u001b[0m \u001b[32m━━━━━━━━━━━━━━━━━━━━\u001b[0m\u001b[37m\u001b[0m \u001b[1m29s\u001b[0m 18ms/step - accuracy: 0.7157 - loss: 0.8141 - val_accuracy: 0.6648 - val_loss: 0.9653\n",
      "Epoch 7/10\n",
      "\u001b[1m1563/1563\u001b[0m \u001b[32m━━━━━━━━━━━━━━━━━━━━\u001b[0m\u001b[37m\u001b[0m \u001b[1m29s\u001b[0m 18ms/step - accuracy: 0.7346 - loss: 0.7594 - val_accuracy: 0.6849 - val_loss: 0.9235\n",
      "Epoch 8/10\n",
      "\u001b[1m1563/1563\u001b[0m \u001b[32m━━━━━━━━━━━━━━━━━━━━\u001b[0m\u001b[37m\u001b[0m \u001b[1m27s\u001b[0m 17ms/step - accuracy: 0.7567 - loss: 0.6971 - val_accuracy: 0.6995 - val_loss: 0.8879\n",
      "Epoch 9/10\n",
      "\u001b[1m1563/1563\u001b[0m \u001b[32m━━━━━━━━━━━━━━━━━━━━\u001b[0m\u001b[37m\u001b[0m \u001b[1m28s\u001b[0m 18ms/step - accuracy: 0.7737 - loss: 0.6559 - val_accuracy: 0.7025 - val_loss: 0.8752\n",
      "Epoch 10/10\n",
      "\u001b[1m1563/1563\u001b[0m \u001b[32m━━━━━━━━━━━━━━━━━━━━\u001b[0m\u001b[37m\u001b[0m \u001b[1m46s\u001b[0m 21ms/step - accuracy: 0.7772 - loss: 0.6297 - val_accuracy: 0.7059 - val_loss: 0.8814\n"
     ]
    }
   ],
   "source": [
    "# Train the model\n",
    "history = model.fit(train_images, train_labels, epochs=10, \n",
    "                    validation_data=(test_images, test_labels))\n",
    "\n"
   ]
  },
  {
   "cell_type": "code",
   "execution_count": 25,
   "id": "3983ea54-80be-4fe4-9635-af86a25aa8ee",
   "metadata": {},
   "outputs": [
    {
     "name": "stdout",
     "output_type": "stream",
     "text": [
      "313/313 - 2s - 6ms/step - accuracy: 0.7059 - loss: 0.8814\n",
      "Test accuracy: 0.7059000134468079\n"
     ]
    }
   ],
   "source": [
    "# Evaluate the model\n",
    "test_loss, test_acc = model.evaluate(test_images,  test_labels, verbose=2)\n",
    "print(f\"Test accuracy: {test_acc}\")"
   ]
  },
  {
   "cell_type": "code",
   "execution_count": 26,
   "id": "57cee9a1-62fc-4ed0-941e-4d324cdca1d6",
   "metadata": {},
   "outputs": [],
   "source": [
    "# Function to load and preprocess the image\n",
    "def load_and_preprocess_image(img_path):\n",
    "    img = image.load_img(img_path, target_size=(32, 32))\n",
    "    img_array = image.img_to_array(img)\n",
    "    img_array = np.expand_dims(img_array, axis=0)  # Add batch dimension\n",
    "    img_array /= 255.0  # Normalize the image\n",
    "    return img_array\n",
    "                                                                                   #Loads an image from the specified file path.\n",
    "                                                                                   # Resizes the image to 32x32 pixels.\n",
    "                                                                                   # Converts the image to a NumPy array.\n",
    "                                                                                   #Adds a batch dimension to the array.\n",
    "                                                                                   #Normalizes the pixel values to the range [0, 1]."
   ]
  },
  {
   "cell_type": "code",
   "execution_count": 27,
   "id": "f42a1584-3c94-4da4-9b44-5f74d9ab1c97",
   "metadata": {},
   "outputs": [],
   "source": [
    "# Function to predict the class of the image\n",
    "def predict_image_class(img_path, model, class_names):\n",
    "    img_array = load_and_preprocess_image(img_path)\n",
    "    predictions = model.predict(img_array)                                           \n",
    "    predicted_class = np.argmax(predictions[0])\n",
    "    predicted_class_name = class_names[predicted_class]\n",
    "    return predicted_class_name, predictions[0][predicted_class]\n",
    "                                                                        #Loads and preprocesses an image from a given path.\n",
    "                                                                         #Uses a trained model to predict the class of the image.\n",
    "                                                                         #Finds the class with the highest prediction score.\n",
    "                                                                        #Returns the name of the predicted class and the confidence score of the prediction"
   ]
  },
  {
   "cell_type": "code",
   "execution_count": 28,
   "id": "8519f2cc-1c06-4dae-9464-ea63deb349bb",
   "metadata": {},
   "outputs": [],
   "source": [
    "# Function to display the image with prediction\n",
    "def display_image_with_prediction(img_path, predicted_class_name, confidence):\n",
    "    img = image.load_img(img_path, target_size=(32, 32))\n",
    "    plt.imshow(img)\n",
    "    plt.title(f\"Predicted: {predicted_class_name} ({confidence:.2f})\")\n",
    "    plt.axis('off')\n",
    "    plt.show()\n",
    "                                                                                   #Loads and resizes an image from a given path.\n",
    "                                                                                   #Displays the image using Matplotlib.\n",
    "                                                                                   #Sets the title of the plot to show the predicted class name and confidence score.\n",
    "                                                                                  #Hides the plot axes for a cleaner display.\n",
    "                                                                                #Renders and shows the plot."
   ]
  },
  {
   "cell_type": "code",
   "execution_count": 29,
   "id": "78ac3966-2b4d-41b1-8870-765ec41b23c4",
   "metadata": {},
   "outputs": [],
   "source": [
    "# Path to your image\n",
    "img_path = r'C:\\Users\\DELL\\Downloads\\cat.jpg'\n"
   ]
  },
  {
   "cell_type": "code",
   "execution_count": 30,
   "id": "0cec89a8-0827-4cf6-b8df-d2f772fd4f97",
   "metadata": {},
   "outputs": [
    {
     "name": "stdout",
     "output_type": "stream",
     "text": [
      "\u001b[1m1/1\u001b[0m \u001b[32m━━━━━━━━━━━━━━━━━━━━\u001b[0m\u001b[37m\u001b[0m \u001b[1m0s\u001b[0m 159ms/step\n",
      "Predicted class: cat with confidence: 1.98\n"
     ]
    },
    {
     "data": {
      "image/png": "[encoded data removed]",
      "text/plain": [
       "<Figure size 640x480 with 1 Axes>"
      ]
     },
     "metadata": {},
     "output_type": "display_data"
    }
   ],
   "source": [
    "# Predict and display the image with prediction\n",
    "predicted_class_name, confidence = predict_image_class(img_path, model, class_names)\n",
    "print(f\"Pr_cledicted class: {predictedass_name} with confidence: {confidence:.2f}\")\n",
    "display_image_with_prediction(img_path, predicted_class_name, confidence)"
   ]
  },
  {
   "cell_type": "code",
   "execution_count": 31,
   "id": "827ef837-f04b-45e6-99fa-5c2c39e51e6c",
   "metadata": {},
   "outputs": [],
   "source": [
    "# Path to your image\n",
    "img_path = r'C:\\Users\\DELL\\Downloads\\parrot.jpg'"
   ]
  },
  {
   "cell_type": "code",
   "execution_count": 32,
   "id": "84ade985-9a31-442c-8b80-fe742b326049",
   "metadata": {},
   "outputs": [
    {
     "name": "stdout",
     "output_type": "stream",
     "text": [
      "\u001b[1m1/1\u001b[0m \u001b[32m━━━━━━━━━━━━━━━━━━━━\u001b[0m\u001b[37m\u001b[0m \u001b[1m0s\u001b[0m 39ms/step\n",
      "Predicted class: bird with confidence: 4.15\n"
     ]
    },
    {
     "data": {
      "image/png": "[encoded data removed]",
      "text/plain": [
       "<Figure size 640x480 with 1 Axes>"
      ]
     },
     "metadata": {},
     "output_type": "display_data"
    }
   ],
   "source": [
    "# Predict and display the image with prediction\n",
    "predicted_class_name, confidence = predict_image_class(img_path, model, class_names)\n",
    "print(f\"Predicted class: {predicted_class_name} with confidence: {confidence:.2f}\")\n",
    "display_image_with_prediction(img_path, predicted_class_name, confidence)"
   ]
  },
  {
   "cell_type": "code",
   "execution_count": null,
   "id": "10fa1a8c-c3eb-4e64-80ba-6eaf55bd43b6",
   "metadata": {},
   "outputs": [],
   "source": []
  }
 ],
 "metadata": {
  "kernelspec": {
   "display_name": "Python 3 (ipykernel)",
   "language": "python",
   "name": "python3"
  },
  "language_info": {
   "codemirror_mode": {
    "name": "ipython",
    "version": 3
   },
   "file_extension": ".py",
   "mimetype": "text/x-python",
   "name": "python",
   "nbconvert_exporter": "python",
   "pygments_lexer": "ipython3",
   "version": "3.11.7"
  }
 },
 "nbformat": 4,
 "nbformat_minor": 5
}
